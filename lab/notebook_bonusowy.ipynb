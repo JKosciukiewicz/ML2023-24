{
 "cells": [
  {
   "cell_type": "markdown",
   "source": [
    "# Ewaluacja modeli przy pomocy testów statystycznych\n",
    "\n",
    "Co trzeba zrobić:\n",
    "1. Zaimplementować wygodny interfejs (API), który umożliwi ewaluację modeli przy pomocy testów statystycznych (4 pkt)\n",
    "    - testy statystyczne powinny opierać się o pracę [Statistical Comparisons of Classifiers over Multiple Data Sets](https://www.jmlr.org/papers/volume7/demsar06a/demsar06a.pdf);\n",
    "    - można inspirować się publicznie dostępnymi implementacjami, ale nie można ich kopiować;\n",
    "    - interfejs może być w formie funkcji lub klasy, która umożliwia podanie przez użytkownika dowolnego modelu (nn.Module), zbioru danych (torch.Dataset) i innych niezbędnych parametrów;\n",
    "    - interfejs ma być wygodny w użyciu, silnie otypowany i udokumentowany.\n",
    "2. Wybrać setting eksperymentalny (0 pkt)\n",
    "    - Wybrać jakąś publikację naukową, w której porównywane są ze sobą przynajmniej 3 modele\n",
    "        - może to być któraś z następujących publikacji: [GraphGPS](https://arxiv.org/abs/2205.12454), [PNA](https://arxiv.org/abs/2004.05718), [GIN](https://arxiv.org/pdf/1810.00826.pdf), [EGNN](https://arxiv.org/abs/2102.09844);\n",
    "        - może być to również jakaś inna publikacja, ale musi być najpierw przedyskutować z prowadzącym.\n",
    "    - Wybrać co najmniej 5 datasetów, na których będziemy przeprowadzać testy:\n",
    "        -  może to być 5 datasetów z publikacji, którą wybraliśmy;\n",
    "        - może być to dowolnych 5 innych datasetów, ale muszą być one najpierw przedyskutowane z prowadzącym;\n",
    "        - dla danych molekularnych polecam [TDC](https://tdcommons.ai/overview/).\n",
    "3. Przepuścić wybrane 3 modele z wybranej publikacji przez API do testów statystycznych używając do tego 5ciu wybranych datasetów (4 pkt).\n",
    "4. Porównać wyniki testów statystycznych z wynikami z publikacji i zinterpretować wyniki (2 pkt)."
   ],
   "metadata": {
    "collapsed": false
   },
   "id": "19fc1e26412bc919"
  }
 ],
 "metadata": {
  "kernelspec": {
   "display_name": "Python 3",
   "language": "python",
   "name": "python3"
  },
  "language_info": {
   "codemirror_mode": {
    "name": "ipython",
    "version": 2
   },
   "file_extension": ".py",
   "mimetype": "text/x-python",
   "name": "python",
   "nbconvert_exporter": "python",
   "pygments_lexer": "ipython2",
   "version": "2.7.6"
  }
 },
 "nbformat": 4,
 "nbformat_minor": 5
}
